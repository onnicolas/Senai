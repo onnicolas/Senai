{
 "cells": [
  {
   "cell_type": "code",
   "execution_count": null,
   "metadata": {},
   "outputs": [],
   "source": [
    "pip install scikit-learn"
   ]
  },
  {
   "cell_type": "code",
   "execution_count": 1,
   "metadata": {},
   "outputs": [],
   "source": [
    "import pandas as pd\n",
    "\n",
    "from sklearn .model_selection import train_test_split\n",
    "\n",
    "from sklearn.tree import DecisionTreeClassifier"
   ]
  },
  {
   "cell_type": "code",
   "execution_count": 2,
   "metadata": {},
   "outputs": [],
   "source": [
    "caminho_arquivo = r'C:\\Users\\nicolas_santana\\Downloads\\Frutas.xlsx'"
   ]
  },
  {
   "cell_type": "code",
   "execution_count": 10,
   "metadata": {},
   "outputs": [],
   "source": [
    "df_frutas = pd.read_excel(caminho_arquivo)"
   ]
  },
  {
   "cell_type": "code",
   "execution_count": 11,
   "metadata": {},
   "outputs": [],
   "source": [
    "df_frutas = df_frutas['Fruta     Cor        Gosto      Formato    Casca'].str.split(expand=True)\n",
    "\n",
    "df_frutas.columns = ['Frutas','Cor','Sabor','Formato','Textura']"
   ]
  },
  {
   "cell_type": "code",
   "execution_count": 12,
   "metadata": {},
   "outputs": [],
   "source": [
    "X = df_frutas[['Cor','Sabor','Formato','Textura']]\n",
    "y = df_frutas['Frutas']"
   ]
  },
  {
   "cell_type": "code",
   "execution_count": 18,
   "metadata": {},
   "outputs": [],
   "source": [
    "y = df_frutas['Frutas']\n",
    "\n",
    "mapeamneto_cor = {'Verde': 0, 'Amarelo': 1, 'Marrom': 2}\n",
    "mapeamneto_sabor = {'Azedo': 0, 'Doce': 1}\n",
    "mapeamneto_formato = {'Oval': 0, 'Curvado': 1, 'Alongado':2}\n",
    "mapeamneto_textura = {'Liso':0,'Peludo': 1}"
   ]
  },
  {
   "cell_type": "code",
   "execution_count": null,
   "metadata": {},
   "outputs": [],
   "source": [
    "X = df_frutas[['Cor','Sabor','Formato','Textura']]\n",
    "\n",
    "X['Cor'] = X ['Cor'].map(mapeamneto_cor)\n",
    "X['Sabor'] = X ['Sabor'].map(mapeamneto_sabor)\n",
    "X['Formato'] = X ['Formato'].map(mapeamneto_formato)\n",
    "X['Textura'] = X ['Textura'].map(mapeamneto_textura)"
   ]
  },
  {
   "cell_type": "code",
   "execution_count": null,
   "metadata": {},
   "outputs": [],
   "source": [
    "X "
   ]
  },
  {
   "cell_type": "code",
   "execution_count": null,
   "metadata": {},
   "outputs": [],
   "source": [
    "X['Textura'] = X ['Textura'].map(mapeamneto_textura)\n",
    "\n",
    "X_train, X_test, y_train, y_test = train_test_split (X, y, test_size = 0.3,random_state=37)\n",
    "\n",
    "modelo = DecisionTreeClassifier()\n",
    "\n",
    "modelo.fit(X_train,y_train)\n",
    "\n",
    "previsoes = modelo.predict(X_test)"
   ]
  },
  {
   "cell_type": "code",
   "execution_count": null,
   "metadata": {},
   "outputs": [],
   "source": [
    "caminho_arquivo2 = r'C:\\Users\\nicolas_santana\\Downloads\\Frutas2.xlsx'\n",
    "df_frutas2 = pd.read_excel(caminho_arquivo2)\n",
    "\n",
    "df_frutas2 ['Cor'] = df_frutas2 ['Cor'].map(mapeamneto_cor)\n",
    "df_frutas2 ['Sabor'] = df_frutas2 ['Sabor'].map(mapeamneto_sabor)\n",
    "df_frutas2 ['Formato'] = df_frutas2 ['Formato'].map(mapeamneto_formato)\n",
    "df_frutas2 ['Textura'] = df_frutas2 ['Textura'].map(mapeamneto_textura)\n",
    "\n",
    "previsoes_novos_dados = modelo.predict(df_frutas2)\n",
    "\n",
    "previsoes_novos_dados"
   ]
  }
 ],
 "metadata": {
  "interpreter": {
   "hash": "ac59ebe37160ed0dfa835113d9b8498d9f09ceb179beaac4002f036b9467c963"
  },
  "kernelspec": {
   "display_name": "Python 3.9.7 64-bit (system)",
   "language": "python",
   "name": "python3"
  },
  "language_info": {
   "codemirror_mode": {
    "name": "ipython",
    "version": 3
   },
   "file_extension": ".py",
   "mimetype": "text/x-python",
   "name": "python",
   "nbconvert_exporter": "python",
   "pygments_lexer": "ipython3",
   "version": "3.9.7"
  },
  "orig_nbformat": 4
 },
 "nbformat": 4,
 "nbformat_minor": 2
}
