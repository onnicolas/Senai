{
 "cells": [
  {
   "cell_type": "markdown",
   "metadata": {},
   "source": []
  },
  {
   "cell_type": "code",
   "execution_count": 9,
   "metadata": {},
   "outputs": [],
   "source": [
    "import pandas as pd\n",
    "\n",
    "from sklearn .model_selection import train_test_split\n",
    "\n",
    "from sklearn.tree import DecisionTreeClassifier"
   ]
  },
  {
   "cell_type": "code",
   "execution_count": 10,
   "metadata": {},
   "outputs": [],
   "source": [
    "caminho_arquivo = r'C:\\Users\\nicolas_santana\\Downloads\\cliente_compras.xlsx'"
   ]
  },
  {
   "cell_type": "code",
   "execution_count": 11,
   "metadata": {},
   "outputs": [],
   "source": [
    "df_compras = pd.read_excel(caminho_arquivo)"
   ]
  },
  {
   "cell_type": "code",
   "execution_count": null,
   "metadata": {},
   "outputs": [],
   "source": [
    "df_compras"
   ]
  },
  {
   "cell_type": "code",
   "execution_count": null,
   "metadata": {},
   "outputs": [],
   "source": [
    "X = df_compras[['tempo_gasto_site\tnumero_itens_visualizados\tcompras_anteriores']]\n",
    "y = df_compras['Compras']"
   ]
  },
  {
   "cell_type": "code",
   "execution_count": null,
   "metadata": {},
   "outputs": [],
   "source": [
    "y = df_compras['C']\n",
    "\n",
    "mapeamneto_tempo = {'Verde': 0, 'Amarelo': 1, 'Marrom': 2}\n",
    "mapeamneto_numero = {'Azedo': 0, 'Doce': 1}\n",
    "mapeamneto_compranteriores = {'Oval': 0, 'Curvado': 1, 'Alongado':2}"
   ]
  },
  {
   "cell_type": "code",
   "execution_count": null,
   "metadata": {},
   "outputs": [],
   "source": [
    "X = df_compras[['Tempo','Numero','Compras Anteriores']]\n",
    "\n",
    "X['Tempo'] = X ['Tempo'].map(mapeamneto_tempo)\n",
    "X['Numero'] = X ['Numero'].map(mapeamneto_numero)\n",
    "X['Compras Anteriores'] = X ['Compras Anteriores'].map(mapeamneto_compranteriores)"
   ]
  },
  {
   "cell_type": "code",
   "execution_count": null,
   "metadata": {},
   "outputs": [],
   "source": [
    "X['Textura'] = X ['Textura'].map(mapeamneto_textura)\n",
    "\n",
    "X_train, X_test, y_train, y_test = train_test_split (X, y, test_size = 0.3,random_state=37)\n",
    "\n",
    "modelo = DecisionTreeClassifier()\n",
    "\n",
    "modelo.fit(X_train,y_train)\n",
    "\n",
    "previsoes = modelo.predict(X_test)"
   ]
  },
  {
   "cell_type": "code",
   "execution_count": null,
   "metadata": {},
   "outputs": [],
   "source": [
    "caminho_arquivo2 = r'C:\\Users\\nicolas_santana\\Downloads\\cliente_compras.xlsx'\n",
    "df_compras2 = pd.read_excel(caminho_arquivo2)\n",
    "\n",
    "df_compras2 ['Cor'] = df_compras2 ['Cor'].map(mapeamneto_cor)\n",
    "df_compras2 ['Sabor'] = df_compras2 ['Sabor'].map(mapeamneto_sabor)\n",
    "df_compras2 ['Formato'] = df_compras2 ['Formato'].map(mapeamneto_formato)\n",
    "df_compras2 ['Textura'] = df_compras2 ['Textura'].map(mapeamneto_textura)\n",
    "\n",
    "previsoes_novos_dados = modelo.predict(df_compras2)\n",
    "\n",
    "previsoes_novos_dados"
   ]
  }
 ],
 "metadata": {
  "interpreter": {
   "hash": "ac59ebe37160ed0dfa835113d9b8498d9f09ceb179beaac4002f036b9467c963"
  },
  "kernelspec": {
   "display_name": "Python 3.9.7 64-bit (system)",
   "language": "python",
   "name": "python3"
  },
  "language_info": {
   "codemirror_mode": {
    "name": "ipython",
    "version": 3
   },
   "file_extension": ".py",
   "mimetype": "text/x-python",
   "name": "python",
   "nbconvert_exporter": "python",
   "pygments_lexer": "ipython3",
   "version": "3.9.7"
  },
  "orig_nbformat": 4
 },
 "nbformat": 4,
 "nbformat_minor": 2
}
