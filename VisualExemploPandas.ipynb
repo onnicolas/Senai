{
 "cells": [
  {
   "cell_type": "code",
   "execution_count": 6,
   "metadata": {},
   "outputs": [],
   "source": [
    "import pandas as pd \n",
    "\n",
    "data = {\n",
    "  \"Nome\" : ['Ana', 'Bruno', 'Carlos', 'Diana'],\n",
    "  'Idade': [28, 34, 45 ,22], \n",
    "  'Cidade': ['São Paulo', 'Rio de Jnaeiro', 'Belo Horizonte', 'Curitiba']\n",
    "}\n",
    "\n",
    "df = pd.DataFrame(data)"
   ]
  },
  {
   "cell_type": "code",
   "execution_count": 3,
   "metadata": {},
   "outputs": [
    {
     "name": "stdout",
     "output_type": "stream",
     "text": [
      "Defaulting to user installation because normal site-packages is not writeable\n",
      "Requirement already satisfied: openpyxl in c:\\users\\nicolas_santana\\appdata\\roaming\\python\\python39\\site-packages (3.1.5)\n",
      "Requirement already satisfied: et-xmlfile in c:\\users\\nicolas_santana\\appdata\\roaming\\python\\python39\\site-packages (from openpyxl) (1.1.0)\n",
      "Note: you may need to restart the kernel to use updated packages.\n"
     ]
    },
    {
     "name": "stderr",
     "output_type": "stream",
     "text": [
      "WARNING: You are using pip version 21.2.3; however, version 24.2 is available.\n",
      "You should consider upgrading via the 'C:\\Program Files\\Python39\\python.exe -m pip install --upgrade pip' command.\n"
     ]
    }
   ],
   "source": [
    "pip install openpyxl"
   ]
  },
  {
   "cell_type": "code",
   "execution_count": 7,
   "metadata": {},
   "outputs": [],
   "source": [
    "import openpyxl\n",
    "\n",
    "caminho = (r\"C:\\Users\\nicolas_santana\\Downloads\\PythonPanda.xlsx\")\n",
    "\n",
    "df2 = pd.read_excel(caminho, engine = 'openpyxl')"
   ]
  },
  {
   "cell_type": "code",
   "execution_count": null,
   "metadata": {},
   "outputs": [],
   "source": [
    "df.head()"
   ]
  },
  {
   "cell_type": "code",
   "execution_count": 13,
   "metadata": {},
   "outputs": [],
   "source": [
    "import pandas as pd\n",
    "import numpy as np \n",
    "\n",
    "num_rows = 100\n",
    "num_cols = 5\n",
    "\n",
    "data = {\n",
    "  'ID':np.arange(1,num_rows + 1),\n",
    "  'Nome':[f'Nome_{i}'for i in range(1, num_rows +1)],\n",
    "  'Idade': np.random.randint(18,70,size=num_rows),\n",
    "  'Salario': np.random.uniform(2000, 10000,size=num_rows).round(2),\n",
    "  'Cidade':np.random.choice(['São Paulo', 'Rio de Janeiro', 'Belo Horizonte', 'Curitiba', 'Porto Alegre'],\n",
    "  size=num_rows)\n",
    "}\n",
    "\n",
    "df = pd.DataFrame(data)"
   ]
  },
  {
   "cell_type": "code",
   "execution_count": 14,
   "metadata": {},
   "outputs": [],
   "source": [
    "df_filtrado = df[df['Salario'] > 5000]"
   ]
  },
  {
   "cell_type": "code",
   "execution_count": 21,
   "metadata": {},
   "outputs": [],
   "source": [
    "df_filtrado2 = df[(df['Salario'] > 5000) & (df['Cidade'] == 'São Paulo')]"
   ]
  },
  {
   "cell_type": "code",
   "execution_count": 26,
   "metadata": {},
   "outputs": [],
   "source": [
    "df_filtrado3 = df[(df['Salario'] > 5000) | (df['Cidade'] == 'São Paulo')]"
   ]
  },
  {
   "cell_type": "code",
   "execution_count": 27,
   "metadata": {},
   "outputs": [],
   "source": [
    "df['Receita'] = df['Idade'] * df['Salario']"
   ]
  },
  {
   "cell_type": "code",
   "execution_count": 28,
   "metadata": {},
   "outputs": [],
   "source": [
    "def elevar_ao_quadrado(x):\n",
    "    return x ** 2"
   ]
  },
  {
   "cell_type": "code",
   "execution_count": 33,
   "metadata": {},
   "outputs": [
    {
     "data": {
      "text/plain": [
       "25"
      ]
     },
     "execution_count": 33,
     "metadata": {},
     "output_type": "execute_result"
    }
   ],
   "source": [
    "elevar_ao_quadrado(5)"
   ]
  },
  {
   "cell_type": "code",
   "execution_count": 29,
   "metadata": {},
   "outputs": [],
   "source": [
    "df ['Quantidade_Vendida_Quadrado'] = df ['Idade'].apply(elevar_ao_quadrado)"
   ]
  },
  {
   "cell_type": "code",
   "execution_count": 30,
   "metadata": {},
   "outputs": [
    {
     "data": {
      "text/plain": [
       "np.int32(18)"
      ]
     },
     "execution_count": 30,
     "metadata": {},
     "output_type": "execute_result"
    }
   ],
   "source": [
    "df ['Idade'].min()"
   ]
  },
  {
   "cell_type": "code",
   "execution_count": 31,
   "metadata": {},
   "outputs": [
    {
     "data": {
      "text/plain": [
       "np.float64(623778.17)"
      ]
     },
     "execution_count": 31,
     "metadata": {},
     "output_type": "execute_result"
    }
   ],
   "source": [
    "df ['Salario'].sum() "
   ]
  },
  {
   "cell_type": "code",
   "execution_count": 32,
   "metadata": {},
   "outputs": [
    {
     "data": {
      "text/html": [
       "<div>\n",
       "<style scoped>\n",
       "    .dataframe tbody tr th:only-of-type {\n",
       "        vertical-align: middle;\n",
       "    }\n",
       "\n",
       "    .dataframe tbody tr th {\n",
       "        vertical-align: top;\n",
       "    }\n",
       "\n",
       "    .dataframe thead th {\n",
       "        text-align: right;\n",
       "    }\n",
       "</style>\n",
       "<table border=\"1\" class=\"dataframe\">\n",
       "  <thead>\n",
       "    <tr style=\"text-align: right;\">\n",
       "      <th></th>\n",
       "      <th>ID</th>\n",
       "      <th>Nome</th>\n",
       "      <th>Idade</th>\n",
       "      <th>Salario</th>\n",
       "      <th>Cidade</th>\n",
       "      <th>Receita</th>\n",
       "      <th>Quantidade_Vendida_Quadrado</th>\n",
       "    </tr>\n",
       "  </thead>\n",
       "  <tbody>\n",
       "    <tr>\n",
       "      <th>0</th>\n",
       "      <td>1</td>\n",
       "      <td>Nome_1</td>\n",
       "      <td>64</td>\n",
       "      <td>2124.19</td>\n",
       "      <td>Belo Horizonte</td>\n",
       "      <td>135948.16</td>\n",
       "      <td>4096</td>\n",
       "    </tr>\n",
       "    <tr>\n",
       "      <th>1</th>\n",
       "      <td>2</td>\n",
       "      <td>Nome_2</td>\n",
       "      <td>61</td>\n",
       "      <td>9214.62</td>\n",
       "      <td>Rio de Janeiro</td>\n",
       "      <td>562091.82</td>\n",
       "      <td>3721</td>\n",
       "    </tr>\n",
       "    <tr>\n",
       "      <th>2</th>\n",
       "      <td>3</td>\n",
       "      <td>Nome_3</td>\n",
       "      <td>68</td>\n",
       "      <td>5952.05</td>\n",
       "      <td>Porto Alegre</td>\n",
       "      <td>404739.40</td>\n",
       "      <td>4624</td>\n",
       "    </tr>\n",
       "    <tr>\n",
       "      <th>3</th>\n",
       "      <td>4</td>\n",
       "      <td>Nome_4</td>\n",
       "      <td>60</td>\n",
       "      <td>5115.97</td>\n",
       "      <td>Porto Alegre</td>\n",
       "      <td>306958.20</td>\n",
       "      <td>3600</td>\n",
       "    </tr>\n",
       "    <tr>\n",
       "      <th>4</th>\n",
       "      <td>5</td>\n",
       "      <td>Nome_5</td>\n",
       "      <td>18</td>\n",
       "      <td>9146.37</td>\n",
       "      <td>São Paulo</td>\n",
       "      <td>164634.66</td>\n",
       "      <td>324</td>\n",
       "    </tr>\n",
       "    <tr>\n",
       "      <th>...</th>\n",
       "      <td>...</td>\n",
       "      <td>...</td>\n",
       "      <td>...</td>\n",
       "      <td>...</td>\n",
       "      <td>...</td>\n",
       "      <td>...</td>\n",
       "      <td>...</td>\n",
       "    </tr>\n",
       "    <tr>\n",
       "      <th>95</th>\n",
       "      <td>96</td>\n",
       "      <td>Nome_96</td>\n",
       "      <td>22</td>\n",
       "      <td>2868.29</td>\n",
       "      <td>São Paulo</td>\n",
       "      <td>63102.38</td>\n",
       "      <td>484</td>\n",
       "    </tr>\n",
       "    <tr>\n",
       "      <th>96</th>\n",
       "      <td>97</td>\n",
       "      <td>Nome_97</td>\n",
       "      <td>61</td>\n",
       "      <td>6327.65</td>\n",
       "      <td>Rio de Janeiro</td>\n",
       "      <td>385986.65</td>\n",
       "      <td>3721</td>\n",
       "    </tr>\n",
       "    <tr>\n",
       "      <th>97</th>\n",
       "      <td>98</td>\n",
       "      <td>Nome_98</td>\n",
       "      <td>64</td>\n",
       "      <td>6660.92</td>\n",
       "      <td>Curitiba</td>\n",
       "      <td>426298.88</td>\n",
       "      <td>4096</td>\n",
       "    </tr>\n",
       "    <tr>\n",
       "      <th>98</th>\n",
       "      <td>99</td>\n",
       "      <td>Nome_99</td>\n",
       "      <td>47</td>\n",
       "      <td>2334.34</td>\n",
       "      <td>São Paulo</td>\n",
       "      <td>109713.98</td>\n",
       "      <td>2209</td>\n",
       "    </tr>\n",
       "    <tr>\n",
       "      <th>99</th>\n",
       "      <td>100</td>\n",
       "      <td>Nome_100</td>\n",
       "      <td>20</td>\n",
       "      <td>7363.20</td>\n",
       "      <td>Porto Alegre</td>\n",
       "      <td>147264.00</td>\n",
       "      <td>400</td>\n",
       "    </tr>\n",
       "  </tbody>\n",
       "</table>\n",
       "<p>100 rows × 7 columns</p>\n",
       "</div>"
      ],
      "text/plain": [
       "     ID      Nome  Idade  Salario          Cidade    Receita  \\\n",
       "0     1    Nome_1     64  2124.19  Belo Horizonte  135948.16   \n",
       "1     2    Nome_2     61  9214.62  Rio de Janeiro  562091.82   \n",
       "2     3    Nome_3     68  5952.05    Porto Alegre  404739.40   \n",
       "3     4    Nome_4     60  5115.97    Porto Alegre  306958.20   \n",
       "4     5    Nome_5     18  9146.37       São Paulo  164634.66   \n",
       "..  ...       ...    ...      ...             ...        ...   \n",
       "95   96   Nome_96     22  2868.29       São Paulo   63102.38   \n",
       "96   97   Nome_97     61  6327.65  Rio de Janeiro  385986.65   \n",
       "97   98   Nome_98     64  6660.92        Curitiba  426298.88   \n",
       "98   99   Nome_99     47  2334.34       São Paulo  109713.98   \n",
       "99  100  Nome_100     20  7363.20    Porto Alegre  147264.00   \n",
       "\n",
       "    Quantidade_Vendida_Quadrado  \n",
       "0                          4096  \n",
       "1                          3721  \n",
       "2                          4624  \n",
       "3                          3600  \n",
       "4                           324  \n",
       "..                          ...  \n",
       "95                          484  \n",
       "96                         3721  \n",
       "97                         4096  \n",
       "98                         2209  \n",
       "99                          400  \n",
       "\n",
       "[100 rows x 7 columns]"
      ]
     },
     "execution_count": 32,
     "metadata": {},
     "output_type": "execute_result"
    }
   ],
   "source": []
  }
 ],
 "metadata": {
  "interpreter": {
   "hash": "ac59ebe37160ed0dfa835113d9b8498d9f09ceb179beaac4002f036b9467c963"
  },
  "kernelspec": {
   "display_name": "Python 3.9.7 64-bit (system)",
   "language": "python",
   "name": "python3"
  },
  "language_info": {
   "codemirror_mode": {
    "name": "ipython",
    "version": 3
   },
   "file_extension": ".py",
   "mimetype": "text/x-python",
   "name": "python",
   "nbconvert_exporter": "python",
   "pygments_lexer": "ipython3",
   "version": "3.9.7"
  },
  "orig_nbformat": 4
 },
 "nbformat": 4,
 "nbformat_minor": 2
}
